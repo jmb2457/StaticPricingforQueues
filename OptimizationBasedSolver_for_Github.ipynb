{
  "cells": [
    {
      "cell_type": "code",
      "execution_count": 21,
      "metadata": {
        "colab": {
          "base_uri": "https://localhost:8080/"
        },
        "id": "d99ca023",
        "outputId": "d2afcefd-c3a6-4ed0-8abc-695154797259"
      },
      "outputs": [
        {
          "output_type": "stream",
          "name": "stdout",
          "text": [
            "Looking in indexes: https://pypi.org/simple, https://us-python.pkg.dev/colab-wheels/public/simple/\n",
            "Requirement already satisfied: tqdm in /usr/local/lib/python3.10/dist-packages (4.65.0)\n"
          ]
        }
      ],
      "source": [
        "import scipy \n",
        "from scipy.optimize import minimize\n",
        "import numpy as np\n",
        "import math\n",
        "import itertools\n",
        "import time\n",
        "from itertools import product\n",
        "import pandas as pd\n",
        "!pip install tqdm\n",
        "from tqdm.notebook import trange,tqdm"
      ],
      "id": "d99ca023"
    },
    {
      "cell_type": "code",
      "execution_count": 22,
      "metadata": {
        "id": "wvdrtNyQYV4m"
      },
      "outputs": [],
      "source": [
        "def convert_lambdas_to_prices(lambdas, inverse_demand_func):\n",
        "  prices = []\n",
        "  for rate in lambdas:\n",
        "    prices.append(float(inverse_demand_func(rate)))\n",
        "  return prices"
      ],
      "id": "wvdrtNyQYV4m"
    },
    {
      "cell_type": "code",
      "execution_count": 23,
      "metadata": {
        "id": "cMZQoahSMgSK"
      },
      "outputs": [],
      "source": [
        "def compute_steady_state(lambdas, NUM_SERVERS):\n",
        "  mus = [min(NUM_SERVERS,i) for i in range(len(lambdas)+1)]\n",
        "  lambda_mu_ratios = [lambdas[i]/mus[i+1] for i in range(len(lambdas))]\n",
        "  denominator = np.sum([np.product(lambda_mu_ratios[0:k]) for k in range(len(lambdas)+1)])\n",
        "  steady_state = [np.product(lambda_mu_ratios[0:k])/denominator  for k in range(len(lambdas)+1)]\n",
        "  return steady_state "
      ],
      "id": "cMZQoahSMgSK"
    },
    {
      "cell_type": "code",
      "execution_count": 24,
      "metadata": {
        "id": "f729170e"
      },
      "outputs": [],
      "source": [
        "def construct_function(inverse_demand_func, NUM_SERVERS):\n",
        "    \n",
        "    def negative_func(lambdas):\n",
        "        mus = [min(NUM_SERVERS,i) for i in range(len(lambdas)+1)]\n",
        "\n",
        "        lambda_mu_ratios = [lambdas[i]/mus[i+1] for i in range(len(lambdas))]\n",
        "\n",
        "        denominator = np.sum([np.product(lambda_mu_ratios[0:k]) for k in range(len(lambdas)+1)])\n",
        "\n",
        "        numerator_sum_terms = []\n",
        "        for i in range(len(lambdas)):\n",
        "            expected_cost = 1/NUM_SERVERS * (i+1) if i >= NUM_SERVERS else 1\n",
        "\n",
        "            if abs(lambdas[i])>1e-12:\n",
        "              term = (inverse_demand_func(lambdas[i])-expected_cost) * lambdas[i] * np.product(lambda_mu_ratios[0:i])\n",
        "            else:\n",
        "              term = 0            \n",
        "            numerator_sum_terms.append(term)                      \n",
        "\n",
        "        return -1*np.sum(numerator_sum_terms)/denominator\n",
        "    \n",
        "    return negative_func"
      ],
      "id": "f729170e"
    },
    {
      "cell_type": "code",
      "execution_count": 25,
      "metadata": {
        "id": "d8b270a6"
      },
      "outputs": [],
      "source": [
        " def construct_static_function(inverse_demand_func, cutoff, NUM_SERVERS):\n",
        "    \n",
        "    def negative_func(arrival_rate):\n",
        "        arrival_rate = arrival_rate[0]\n",
        "        \n",
        "        lambdas = [arrival_rate for i in range(cutoff+1)]\n",
        "\n",
        "        mus = [min(NUM_SERVERS,i) for i in range(len(lambdas)+1)]\n",
        "\n",
        "        lambda_mu_ratios = [lambdas[i]/mus[i+1] for i in range(len(lambdas))]\n",
        "\n",
        "        denominator = np.sum([np.product(lambda_mu_ratios[0:k]) for k in range(len(lambdas)+1)])\n",
        "\n",
        "        numerator_sum_terms = []\n",
        "        for i in range(len(lambdas)):\n",
        "            expected_cost = 1/NUM_SERVERS * (i+1) if i >= NUM_SERVERS else 1\n",
        "            if lambdas[i]:\n",
        "              term = (inverse_demand_func(lambdas[i])-expected_cost) * lambdas[i] * np.product(lambda_mu_ratios[0:i])\n",
        "            else:\n",
        "              term = 0\n",
        "            numerator_sum_terms.append(term) \n",
        "\n",
        "        return -1*np.sum(numerator_sum_terms)/denominator\n",
        "    \n",
        "    return negative_func    "
      ],
      "id": "d8b270a6"
    },
    {
      "cell_type": "code",
      "execution_count": 26,
      "metadata": {
        "id": "TIlM_jpGwvD2"
      },
      "outputs": [],
      "source": [
        "def compute_optimal_static_policy_given_rate(inverse_demand_func, MAX_QUEUE, arrival_rate, NUM_SERVERS):\n",
        "  profit_vals = []\n",
        "  for cutoff in range(MAX_QUEUE):\n",
        "    static_func = construct_static_function(inverse_demand_func,cutoff, NUM_SERVERS)\n",
        "    profit_vals.append(-1*static_func(arrival_rate))\n",
        "\n",
        "  best_cutoff = np.argmax(profit_vals)\n",
        "  \n",
        "  return [arrival_rate[0] if i < best_cutoff+1 else 0 for i in range(MAX_QUEUE)]\n",
        "\n"
      ],
      "id": "TIlM_jpGwvD2"
    },
    {
      "cell_type": "code",
      "execution_count": 27,
      "metadata": {
        "id": "772vW2ZNzPMw"
      },
      "outputs": [],
      "source": [
        "def compute_optimal_static_policy(inverse_demand_func, MAX_QUEUE, NUM_SERVERS, MAX_RATE):\n",
        "    max_so_far = -np.inf\n",
        "    for cutoff in range(MAX_QUEUE):\n",
        "        static_func = construct_static_function(inverse_demand_func,cutoff,NUM_SERVERS)\n",
        "        bounds = [(0, MAX_RATE)]\n",
        "        initial_sol = [0]\n",
        "        res = minimize(static_func, initial_sol, bounds = bounds, options = {'maxfun': 30000})\n",
        "        \n",
        "        if -1*res.fun >= max_so_far:\n",
        "          max_so_far = -1*res.fun\n",
        "          best_rate = res.x\n",
        "          best_cutoff = cutoff\n",
        "\n",
        "    return [best_rate[0] if i < best_cutoff+1 else 0 for i in range(MAX_QUEUE)]"
      ],
      "id": "772vW2ZNzPMw"
    },
    {
      "cell_type": "code",
      "execution_count": 28,
      "metadata": {
        "id": "_2y8YQhz6wOO"
      },
      "outputs": [],
      "source": [
        "def compute_optimal_dynamic_policy(inverse_demand_func, MAX_QUEUE, NUM_SERVERS, initial_sol, MAX_RATE=1e20):\n",
        "  negative_func = construct_function(inverse_demand_func, NUM_SERVERS)\n",
        "  bounds = [(0, MAX_RATE) for i in range(MAX_QUEUE)]\n",
        "  A = generate_constraint_matrix(MAX_QUEUE)\n",
        "  cons = [{\"type\": \"ineq\", \"fun\": lambda x: A @ x}]\n",
        "  res = minimize(negative_func, initial_sol, bounds = bounds, constraints = cons)\n",
        "  return res.x, -1*res.fun"
      ],
      "id": "_2y8YQhz6wOO"
    },
    {
      "cell_type": "code",
      "execution_count": 29,
      "metadata": {
        "id": "Su8HMXcVb2gt"
      },
      "outputs": [],
      "source": [
        "def get_rev_cost_profit_from_policy(policy, NUM_SERVERS, inverse_demand_func):\n",
        "  steady_state = compute_steady_state(policy, NUM_SERVERS)\n",
        "  pricing_policy = convert_lambdas_to_prices(policy, inverse_demand_func)\n",
        "  rev = np.dot(steady_state[0:-1],np.multiply(pricing_policy,policy))\n",
        "  cost = np.dot(steady_state, np.arange(len(steady_state)))\n",
        "  profit = rev-cost\n",
        "\n",
        "  return rev,cost,profit"
      ],
      "id": "Su8HMXcVb2gt"
    },
    {
      "cell_type": "code",
      "execution_count": 30,
      "metadata": {
        "id": "xIoO0w2GM1zD"
      },
      "outputs": [],
      "source": [
        "def generate_constraint_matrix(n):\n",
        "  A = []\n",
        "\n",
        "  for i in range(n-1):\n",
        "    row = np.zeros(n)\n",
        "    row[i] = 1\n",
        "    row[i+1] = -1\n",
        "    A.append(row)\n",
        "  return np.array(A)"
      ],
      "id": "xIoO0w2GM1zD"
    },
    {
      "cell_type": "code",
      "execution_count": null,
      "metadata": {
        "colab": {
          "background_save": true,
          "base_uri": "https://localhost:8080/",
          "height": 105,
          "referenced_widgets": [
            "1f4a1c32829944fcbf75eca1afe7b09a",
            "fb9abe5f93e64c198fef1fa370a52f52",
            "488ef06ad22646588fe10c70058446e0",
            "3789b9b26bc04a84923456114425baf5",
            "e33a5a68c09840eaa95f181d54fb742c",
            "24fd02fe071949a68f554f573c2ba0b0",
            "a70eb19b349b4ea7b2e7449522fd2309",
            "a83c8d6fac694b0b843ea2ae061c0274",
            "38579ae44d9047b89441cb94d518e789",
            "27a34a5ca594496bbae99b43b803c9e8",
            "5e07c88a05c24ef0a8b4373e8e2cde8b"
          ]
        },
        "id": "h_lmYdKTIWVT",
        "outputId": "966bd96f-deb2-455b-c1b8-fa833459beec"
      },
      "outputs": [
        {
          "output_type": "display_data",
          "data": {
            "text/plain": [
              "  0%|          | 0/1000 [00:00<?, ?it/s]"
            ],
            "application/vnd.jupyter.widget-view+json": {
              "version_major": 2,
              "version_minor": 0,
              "model_id": "1f4a1c32829944fcbf75eca1afe7b09a"
            }
          },
          "metadata": {}
        },
        {
          "output_type": "stream",
          "name": "stderr",
          "text": [
            "/usr/local/lib/python3.10/dist-packages/numpy/core/fromnumeric.py:86: VisibleDeprecationWarning: Creating an ndarray from ragged nested sequences (which is a list-or-tuple of lists-or-tuples-or ndarrays with different lengths or shapes) is deprecated. If you meant to do this, you must specify 'dtype=object' when creating the ndarray.\n",
            "  return ufunc.reduce(obj, axis, dtype, out, **passkwargs)\n"
          ]
        }
      ],
      "source": [
        "#Test Parameters\n",
        "num_servers_to_test = 1 #Number of servers \n",
        "demand_type = 'linear' #demand_type can be 'logistic', 'linear', or 'exponential'\n",
        "num_instances = 1000 #number of instances\n",
        "\n",
        "test_vals = []\n",
        "while len(test_vals) != num_instances:\n",
        "    a = np.random.rand(1)*4.9+.1\n",
        "    b = np.random.rand(1)*9.5+.5\n",
        "    p0 = np.random.rand(1)*20\n",
        "    test_vals.append([a,b, p0])\n",
        "\n",
        "\n",
        "start_time = time.time()\n",
        "experiment_results = []\n",
        "elmachtoub_rev_ratios = []\n",
        "elmachtoub_cost_ratios = []\n",
        "elmachtoub_profit_ratios = []\n",
        "ab_vals = []\n",
        "blocking_probs = []\n",
        "optimal_rev_ratios = []\n",
        "optimal_cost_ratios = []\n",
        "optimal_profit_ratios = []\n",
        "num_servers_to_test = [num_servers_to_test]\n",
        "\n",
        "degenerate_instances_counter = 0\n",
        "\n",
        "\n",
        "for NUM_SERVERS in num_servers_to_test:\n",
        "    this_server_experiments = []\n",
        "    for i in trange(len(test_vals)):\n",
        "\n",
        "      (a,b,p0) = test_vals[i]\n",
        "\n",
        "      if demand_type == 'linear':\n",
        "        MAX_QUEUE = math.ceil(b/a)*NUM_SERVERS+1\n",
        "        inverse_demand_func = lambda x: (b-x)/a\n",
        "\n",
        "      if demand_type == 'exponential':\n",
        "        MAX_QUEUE = max(math.ceil(b/a)*3, NUM_SERVERS)\n",
        "        MAX_QUEUE = 20\n",
        "        inverse_demand_func = lambda x: math.log(b/x)/a if x !=0 else 1e40\n",
        "\n",
        "      if demand_type == 'logistic':\n",
        "        MAX_QUEUE = math.ceil(b/a)*5*NUM_SERVERS\n",
        "        def inverse_logistic(x):\n",
        "          if abs(x-b) <= 1e-5:\n",
        "            return 0\n",
        "          if x == 0:\n",
        "            return 1e20\n",
        "          else:\n",
        "            try:\n",
        "              return math.log(b*((1+math.exp(-a*p0))/x)-1)/a + p0\n",
        "            except ValueError:\n",
        "              print(x)\n",
        "        inverse_demand_func = inverse_logistic\n",
        "\n",
        "      MAX_RATE = b\n",
        "\n",
        "      optimal_static_policy = compute_optimal_static_policy(inverse_demand_func, MAX_QUEUE, NUM_SERVERS, MAX_RATE)\n",
        "\n",
        "      optimal_dynamic_policy, optimal_profit = compute_optimal_dynamic_policy(inverse_demand_func, MAX_QUEUE, NUM_SERVERS, initial_sol = optimal_static_policy, MAX_RATE=b)\n",
        "\n",
        "      optimal_steady_state = compute_steady_state(optimal_dynamic_policy,NUM_SERVERS)\n",
        "\n",
        "      blocking_probs.append(optimal_steady_state[-1])\n",
        "\n",
        "      if optimal_steady_state[-1] > .001:\n",
        "        print('Max queue needs to be higher')\n",
        "\n",
        "      elmachtoub_rate = np.dot(optimal_steady_state[0:-1],optimal_dynamic_policy)\n",
        "      \n",
        "      optimal_elmachtoub_policy = compute_optimal_static_policy_given_rate(inverse_demand_func,MAX_QUEUE,[elmachtoub_rate], NUM_SERVERS)\n",
        "\n",
        "      opt_rev,opt_cost,opt_profit = get_rev_cost_profit_from_policy(optimal_dynamic_policy, NUM_SERVERS, inverse_demand_func)\n",
        "\n",
        "      opt_static_rev,opt_static_cost,opt_static_profit = get_rev_cost_profit_from_policy(optimal_static_policy, NUM_SERVERS, inverse_demand_func)\n",
        "\n",
        "      opt_elmachtoub_rev,opt_elmachtoub_cost,opt_elmachtoub_profit = get_rev_cost_profit_from_policy(optimal_elmachtoub_policy, NUM_SERVERS, inverse_demand_func)\n",
        "\n",
        "      if opt_profit != 0 and len(elmachtoub_rev_ratios) < 1000:\n",
        "        elmachtoub_rev_ratios.append(opt_elmachtoub_rev/opt_rev)\n",
        "        optimal_rev_ratios.append(opt_static_rev/opt_rev)\n",
        "\n",
        "        elmachtoub_cost_ratios.append(opt_elmachtoub_cost/opt_cost)\n",
        "        optimal_cost_ratios.append(opt_static_cost/opt_cost)\n",
        "\n",
        "        elmachtoub_profit_ratios.append(opt_elmachtoub_profit/opt_profit)\n",
        "        optimal_profit_ratios.append(opt_static_profit/opt_profit)\n",
        "      else:\n",
        "        degenerate_instances_counter+=1\n",
        "        #elmachtoub_rev_ratios.append(1)\n",
        "        #optimal_rev_ratios.append(1)\n",
        "\n",
        "        #elmachtoub_cost_ratios.append(1)\n",
        "        #optimal_cost_ratios.append(1)\n",
        "\n",
        "        #elmachtoub_profit_ratios.append(1)\n",
        "        #optimal_profit_ratios.append(1)\n",
        "      ab_vals.append([a,b])\n",
        "\n",
        "\n",
        "duration = time.time()-start_time"
      ],
      "id": "h_lmYdKTIWVT"
    },
    {
      "cell_type": "code",
      "execution_count": null,
      "metadata": {
        "id": "piT82qri2Ld6"
      },
      "outputs": [],
      "source": [
        "np.round(np.mean(optimal_profit_ratios)*100,2), np.round(np.min(optimal_profit_ratios)*100,2)"
      ],
      "id": "piT82qri2Ld6"
    },
    {
      "cell_type": "code",
      "execution_count": null,
      "metadata": {
        "colab": {
          "base_uri": "https://localhost:8080/"
        },
        "id": "vFT1zDm0wWn-",
        "outputId": "220d4dcd-fa0c-4e90-f67f-1f0215faffaf"
      },
      "outputs": [
        {
          "data": {
            "text/plain": [
              "(99.94, 98.61)"
            ]
          },
          "execution_count": 32,
          "metadata": {},
          "output_type": "execute_result"
        }
      ],
      "source": [
        "np.round(np.mean(elmachtoub_profit_ratios)*100,2), np.round(np.min(elmachtoub_profit_ratios)*100,2)"
      ],
      "id": "vFT1zDm0wWn-"
    },
    {
      "cell_type": "code",
      "execution_count": null,
      "metadata": {
        "colab": {
          "base_uri": "https://localhost:8080/"
        },
        "id": "gh70ljdsxUgX",
        "outputId": "8dc49f03-c2be-4b0a-9ada-664b997f19cb"
      },
      "outputs": [
        {
          "data": {
            "text/plain": [
              "(99.99, 99.18)"
            ]
          },
          "execution_count": 33,
          "metadata": {},
          "output_type": "execute_result"
        }
      ],
      "source": [
        "np.round(np.mean(optimal_rev_ratios)*100,2), np.round(np.min(optimal_rev_ratios)*100,2)"
      ],
      "id": "gh70ljdsxUgX"
    },
    {
      "cell_type": "code",
      "execution_count": null,
      "metadata": {
        "colab": {
          "base_uri": "https://localhost:8080/"
        },
        "id": "EJGxT3zwxKS5",
        "outputId": "f4b98b32-3307-48b2-ff8e-6cd66166fcbb"
      },
      "outputs": [
        {
          "data": {
            "text/plain": [
              "(99.96, 98.41)"
            ]
          },
          "execution_count": 34,
          "metadata": {},
          "output_type": "execute_result"
        }
      ],
      "source": [
        "np.round(np.mean(elmachtoub_rev_ratios)*100,2), np.round(np.min(elmachtoub_rev_ratios)*100,2)"
      ],
      "id": "EJGxT3zwxKS5"
    },
    {
      "cell_type": "code",
      "execution_count": null,
      "metadata": {
        "colab": {
          "base_uri": "https://localhost:8080/"
        },
        "id": "vxm3exVJxKoW",
        "outputId": "1c9fcf45-69df-4d84-d090-b4b4756a6af2"
      },
      "outputs": [
        {
          "data": {
            "text/plain": [
              "(100.24, 102.7)"
            ]
          },
          "execution_count": 35,
          "metadata": {},
          "output_type": "execute_result"
        }
      ],
      "source": [
        "np.round(np.mean(optimal_cost_ratios)*100,2), np.round(np.max(optimal_cost_ratios)*100,2)"
      ],
      "id": "vxm3exVJxKoW"
    },
    {
      "cell_type": "code",
      "execution_count": null,
      "metadata": {
        "colab": {
          "base_uri": "https://localhost:8080/"
        },
        "id": "7eG45w3YxeCv",
        "outputId": "2a5ebf93-7e79-413d-c2c1-0b177f02845a"
      },
      "outputs": [
        {
          "data": {
            "text/plain": [
              "(100.12, 102.0)"
            ]
          },
          "execution_count": 36,
          "metadata": {},
          "output_type": "execute_result"
        }
      ],
      "source": [
        "np.round(np.mean(elmachtoub_cost_ratios)*100,2), np.round(100*np.max(elmachtoub_cost_ratios))"
      ],
      "id": "7eG45w3YxeCv"
    }
  ],
  "metadata": {
    "colab": {
      "provenance": []
    },
    "kernelspec": {
      "display_name": "Python 3 (ipykernel)",
      "language": "python",
      "name": "python3"
    },
    "language_info": {
      "codemirror_mode": {
        "name": "ipython",
        "version": 3
      },
      "file_extension": ".py",
      "mimetype": "text/x-python",
      "name": "python",
      "nbconvert_exporter": "python",
      "pygments_lexer": "ipython3",
      "version": "3.10.4"
    },
    "widgets": {
      "application/vnd.jupyter.widget-state+json": {
        "1f4a1c32829944fcbf75eca1afe7b09a": {
          "model_module": "@jupyter-widgets/controls",
          "model_name": "HBoxModel",
          "model_module_version": "1.5.0",
          "state": {
            "_dom_classes": [],
            "_model_module": "@jupyter-widgets/controls",
            "_model_module_version": "1.5.0",
            "_model_name": "HBoxModel",
            "_view_count": null,
            "_view_module": "@jupyter-widgets/controls",
            "_view_module_version": "1.5.0",
            "_view_name": "HBoxView",
            "box_style": "",
            "children": [
              "IPY_MODEL_fb9abe5f93e64c198fef1fa370a52f52",
              "IPY_MODEL_488ef06ad22646588fe10c70058446e0",
              "IPY_MODEL_3789b9b26bc04a84923456114425baf5"
            ],
            "layout": "IPY_MODEL_e33a5a68c09840eaa95f181d54fb742c"
          }
        },
        "fb9abe5f93e64c198fef1fa370a52f52": {
          "model_module": "@jupyter-widgets/controls",
          "model_name": "HTMLModel",
          "model_module_version": "1.5.0",
          "state": {
            "_dom_classes": [],
            "_model_module": "@jupyter-widgets/controls",
            "_model_module_version": "1.5.0",
            "_model_name": "HTMLModel",
            "_view_count": null,
            "_view_module": "@jupyter-widgets/controls",
            "_view_module_version": "1.5.0",
            "_view_name": "HTMLView",
            "description": "",
            "description_tooltip": null,
            "layout": "IPY_MODEL_24fd02fe071949a68f554f573c2ba0b0",
            "placeholder": "​",
            "style": "IPY_MODEL_a70eb19b349b4ea7b2e7449522fd2309",
            "value": " 11%"
          }
        },
        "488ef06ad22646588fe10c70058446e0": {
          "model_module": "@jupyter-widgets/controls",
          "model_name": "FloatProgressModel",
          "model_module_version": "1.5.0",
          "state": {
            "_dom_classes": [],
            "_model_module": "@jupyter-widgets/controls",
            "_model_module_version": "1.5.0",
            "_model_name": "FloatProgressModel",
            "_view_count": null,
            "_view_module": "@jupyter-widgets/controls",
            "_view_module_version": "1.5.0",
            "_view_name": "ProgressView",
            "bar_style": "",
            "description": "",
            "description_tooltip": null,
            "layout": "IPY_MODEL_a83c8d6fac694b0b843ea2ae061c0274",
            "max": 1000,
            "min": 0,
            "orientation": "horizontal",
            "style": "IPY_MODEL_38579ae44d9047b89441cb94d518e789",
            "value": 110
          }
        },
        "3789b9b26bc04a84923456114425baf5": {
          "model_module": "@jupyter-widgets/controls",
          "model_name": "HTMLModel",
          "model_module_version": "1.5.0",
          "state": {
            "_dom_classes": [],
            "_model_module": "@jupyter-widgets/controls",
            "_model_module_version": "1.5.0",
            "_model_name": "HTMLModel",
            "_view_count": null,
            "_view_module": "@jupyter-widgets/controls",
            "_view_module_version": "1.5.0",
            "_view_name": "HTMLView",
            "description": "",
            "description_tooltip": null,
            "layout": "IPY_MODEL_27a34a5ca594496bbae99b43b803c9e8",
            "placeholder": "​",
            "style": "IPY_MODEL_5e07c88a05c24ef0a8b4373e8e2cde8b",
            "value": " 110/1000 [00:13&lt;03:59,  3.71it/s]"
          }
        },
        "e33a5a68c09840eaa95f181d54fb742c": {
          "model_module": "@jupyter-widgets/base",
          "model_name": "LayoutModel",
          "model_module_version": "1.2.0",
          "state": {
            "_model_module": "@jupyter-widgets/base",
            "_model_module_version": "1.2.0",
            "_model_name": "LayoutModel",
            "_view_count": null,
            "_view_module": "@jupyter-widgets/base",
            "_view_module_version": "1.2.0",
            "_view_name": "LayoutView",
            "align_content": null,
            "align_items": null,
            "align_self": null,
            "border": null,
            "bottom": null,
            "display": null,
            "flex": null,
            "flex_flow": null,
            "grid_area": null,
            "grid_auto_columns": null,
            "grid_auto_flow": null,
            "grid_auto_rows": null,
            "grid_column": null,
            "grid_gap": null,
            "grid_row": null,
            "grid_template_areas": null,
            "grid_template_columns": null,
            "grid_template_rows": null,
            "height": null,
            "justify_content": null,
            "justify_items": null,
            "left": null,
            "margin": null,
            "max_height": null,
            "max_width": null,
            "min_height": null,
            "min_width": null,
            "object_fit": null,
            "object_position": null,
            "order": null,
            "overflow": null,
            "overflow_x": null,
            "overflow_y": null,
            "padding": null,
            "right": null,
            "top": null,
            "visibility": null,
            "width": null
          }
        },
        "24fd02fe071949a68f554f573c2ba0b0": {
          "model_module": "@jupyter-widgets/base",
          "model_name": "LayoutModel",
          "model_module_version": "1.2.0",
          "state": {
            "_model_module": "@jupyter-widgets/base",
            "_model_module_version": "1.2.0",
            "_model_name": "LayoutModel",
            "_view_count": null,
            "_view_module": "@jupyter-widgets/base",
            "_view_module_version": "1.2.0",
            "_view_name": "LayoutView",
            "align_content": null,
            "align_items": null,
            "align_self": null,
            "border": null,
            "bottom": null,
            "display": null,
            "flex": null,
            "flex_flow": null,
            "grid_area": null,
            "grid_auto_columns": null,
            "grid_auto_flow": null,
            "grid_auto_rows": null,
            "grid_column": null,
            "grid_gap": null,
            "grid_row": null,
            "grid_template_areas": null,
            "grid_template_columns": null,
            "grid_template_rows": null,
            "height": null,
            "justify_content": null,
            "justify_items": null,
            "left": null,
            "margin": null,
            "max_height": null,
            "max_width": null,
            "min_height": null,
            "min_width": null,
            "object_fit": null,
            "object_position": null,
            "order": null,
            "overflow": null,
            "overflow_x": null,
            "overflow_y": null,
            "padding": null,
            "right": null,
            "top": null,
            "visibility": null,
            "width": null
          }
        },
        "a70eb19b349b4ea7b2e7449522fd2309": {
          "model_module": "@jupyter-widgets/controls",
          "model_name": "DescriptionStyleModel",
          "model_module_version": "1.5.0",
          "state": {
            "_model_module": "@jupyter-widgets/controls",
            "_model_module_version": "1.5.0",
            "_model_name": "DescriptionStyleModel",
            "_view_count": null,
            "_view_module": "@jupyter-widgets/base",
            "_view_module_version": "1.2.0",
            "_view_name": "StyleView",
            "description_width": ""
          }
        },
        "a83c8d6fac694b0b843ea2ae061c0274": {
          "model_module": "@jupyter-widgets/base",
          "model_name": "LayoutModel",
          "model_module_version": "1.2.0",
          "state": {
            "_model_module": "@jupyter-widgets/base",
            "_model_module_version": "1.2.0",
            "_model_name": "LayoutModel",
            "_view_count": null,
            "_view_module": "@jupyter-widgets/base",
            "_view_module_version": "1.2.0",
            "_view_name": "LayoutView",
            "align_content": null,
            "align_items": null,
            "align_self": null,
            "border": null,
            "bottom": null,
            "display": null,
            "flex": null,
            "flex_flow": null,
            "grid_area": null,
            "grid_auto_columns": null,
            "grid_auto_flow": null,
            "grid_auto_rows": null,
            "grid_column": null,
            "grid_gap": null,
            "grid_row": null,
            "grid_template_areas": null,
            "grid_template_columns": null,
            "grid_template_rows": null,
            "height": null,
            "justify_content": null,
            "justify_items": null,
            "left": null,
            "margin": null,
            "max_height": null,
            "max_width": null,
            "min_height": null,
            "min_width": null,
            "object_fit": null,
            "object_position": null,
            "order": null,
            "overflow": null,
            "overflow_x": null,
            "overflow_y": null,
            "padding": null,
            "right": null,
            "top": null,
            "visibility": null,
            "width": null
          }
        },
        "38579ae44d9047b89441cb94d518e789": {
          "model_module": "@jupyter-widgets/controls",
          "model_name": "ProgressStyleModel",
          "model_module_version": "1.5.0",
          "state": {
            "_model_module": "@jupyter-widgets/controls",
            "_model_module_version": "1.5.0",
            "_model_name": "ProgressStyleModel",
            "_view_count": null,
            "_view_module": "@jupyter-widgets/base",
            "_view_module_version": "1.2.0",
            "_view_name": "StyleView",
            "bar_color": null,
            "description_width": ""
          }
        },
        "27a34a5ca594496bbae99b43b803c9e8": {
          "model_module": "@jupyter-widgets/base",
          "model_name": "LayoutModel",
          "model_module_version": "1.2.0",
          "state": {
            "_model_module": "@jupyter-widgets/base",
            "_model_module_version": "1.2.0",
            "_model_name": "LayoutModel",
            "_view_count": null,
            "_view_module": "@jupyter-widgets/base",
            "_view_module_version": "1.2.0",
            "_view_name": "LayoutView",
            "align_content": null,
            "align_items": null,
            "align_self": null,
            "border": null,
            "bottom": null,
            "display": null,
            "flex": null,
            "flex_flow": null,
            "grid_area": null,
            "grid_auto_columns": null,
            "grid_auto_flow": null,
            "grid_auto_rows": null,
            "grid_column": null,
            "grid_gap": null,
            "grid_row": null,
            "grid_template_areas": null,
            "grid_template_columns": null,
            "grid_template_rows": null,
            "height": null,
            "justify_content": null,
            "justify_items": null,
            "left": null,
            "margin": null,
            "max_height": null,
            "max_width": null,
            "min_height": null,
            "min_width": null,
            "object_fit": null,
            "object_position": null,
            "order": null,
            "overflow": null,
            "overflow_x": null,
            "overflow_y": null,
            "padding": null,
            "right": null,
            "top": null,
            "visibility": null,
            "width": null
          }
        },
        "5e07c88a05c24ef0a8b4373e8e2cde8b": {
          "model_module": "@jupyter-widgets/controls",
          "model_name": "DescriptionStyleModel",
          "model_module_version": "1.5.0",
          "state": {
            "_model_module": "@jupyter-widgets/controls",
            "_model_module_version": "1.5.0",
            "_model_name": "DescriptionStyleModel",
            "_view_count": null,
            "_view_module": "@jupyter-widgets/base",
            "_view_module_version": "1.2.0",
            "_view_name": "StyleView",
            "description_width": ""
          }
        }
      }
    }
  },
  "nbformat": 4,
  "nbformat_minor": 5
}
